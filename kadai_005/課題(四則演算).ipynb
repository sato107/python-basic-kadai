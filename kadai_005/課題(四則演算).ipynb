{
  "nbformat": 4,
  "nbformat_minor": 0,
  "metadata": {
    "colab": {
      "provenance": []
    },
    "kernelspec": {
      "name": "python3",
      "display_name": "Python 3"
    },
    "language_info": {
      "name": "python"
    }
  },
  "cells": [
    {
      "cell_type": "code",
      "execution_count": null,
      "metadata": {
        "colab": {
          "base_uri": "https://localhost:8080/"
        },
        "id": "w6nucRK9njSt",
        "outputId": "1caf4eaa-b957-4a8c-e7c2-5feb5e09b302"
      },
      "outputs": [
        {
          "output_type": "stream",
          "name": "stdout",
          "text": [
            "100.0\n"
          ]
        }
      ],
      "source": [
        "print(10*20/2)"
      ]
    },
    {
      "cell_type": "code",
      "source": [
        "#四則演算\n",
        "topbase = 10\n",
        "underbase = 20\n",
        "height = 5\n",
        "print(str((topbase + underbase) * height / 2)+\"㎠\")"
      ],
      "metadata": {
        "colab": {
          "base_uri": "https://localhost:8080/"
        },
        "id": "4G-OQH9SoAO3",
        "outputId": "fab37d69-4393-42de-c4b2-95089becccdc"
      },
      "execution_count": null,
      "outputs": [
        {
          "output_type": "stream",
          "name": "stdout",
          "text": [
            "75.0㎠\n"
          ]
        }
      ]
    },
    {
      "cell_type": "code",
      "source": [],
      "metadata": {
        "id": "MFVthdHdps9G"
      },
      "execution_count": null,
      "outputs": []
    }
  ]
}