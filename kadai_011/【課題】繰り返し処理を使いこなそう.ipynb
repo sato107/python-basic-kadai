{
  "nbformat": 4,
  "nbformat_minor": 0,
  "metadata": {
    "colab": {
      "provenance": []
    },
    "kernelspec": {
      "name": "python3",
      "display_name": "Python 3"
    },
    "language_info": {
      "name": "python"
    }
  },
  "cells": [
    {
      "cell_type": "code",
      "source": [
        "array = [\"水\",\"金\",\"地\",\"火\",\"木\",\"土\",\"天\",\"海\",\"冥\"]\n",
        "i = 1\n",
        "while i <= 2:\n",
        "    for planet in array:\n",
        "      print(planet)\n",
        "    i = i + 1"
      ],
      "metadata": {
        "id": "KkR9eR-SlVNl",
        "colab": {
          "base_uri": "https://localhost:8080/"
        },
        "outputId": "ade028a3-d4f5-4d4c-b7b4-a9d52e195d6e"
      },
      "execution_count": 71,
      "outputs": [
        {
          "output_type": "stream",
          "name": "stdout",
          "text": [
            "水\n",
            "金\n",
            "地\n",
            "火\n",
            "木\n",
            "土\n",
            "天\n",
            "海\n",
            "冥\n",
            "水\n",
            "金\n",
            "地\n",
            "火\n",
            "木\n",
            "土\n",
            "天\n",
            "海\n",
            "冥\n"
          ]
        }
      ]
    },
    {
      "cell_type": "code",
      "source": [],
      "metadata": {
        "id": "zZFoexVgQdHK"
      },
      "execution_count": 62,
      "outputs": []
    }
  ]
}