{
  "nbformat": 4,
  "nbformat_minor": 0,
  "metadata": {
    "colab": {
      "provenance": []
    },
    "kernelspec": {
      "name": "python3",
      "display_name": "Python 3"
    },
    "language_info": {
      "name": "python"
    }
  },
  "cells": [
    {
      "cell_type": "code",
      "source": [
        "class Human:\n",
        "    def __init__(self, name, age):\n",
        "        self.name = name\n",
        "        self.age = age\n",
        "\n",
        "    def check_adult(self):\n",
        "        if self.age >= 20:\n",
        "            print(f\"{self.name}は大人です。\")\n",
        "        else:\n",
        "            print(f\"{self.name}は大人ではありません。\")\n",
        "\n",
        "humans = [\n",
        "    Human(\"佐藤\", 25),\n",
        "    Human(\"鈴木\", 18),\n",
        "    Human(\"山田\", 32)\n",
        "]\n",
        "\n",
        "for human in humans:\n",
        "    human.check_adult()"
      ],
      "metadata": {
        "colab": {
          "base_uri": "https://localhost:8080/"
        },
        "id": "DiqWhgFueHh6",
        "outputId": "5ecc79fd-3f2f-4772-ca2b-00dc29662ea9"
      },
      "execution_count": 2,
      "outputs": [
        {
          "output_type": "stream",
          "name": "stdout",
          "text": [
            "佐藤は大人です。\n",
            "鈴木は大人ではありません。\n",
            "山田は大人です。\n"
          ]
        }
      ]
    },
    {
      "cell_type": "code",
      "source": [],
      "metadata": {
        "id": "e54mP61Ue3a0"
      },
      "execution_count": null,
      "outputs": []
    }
  ]
}