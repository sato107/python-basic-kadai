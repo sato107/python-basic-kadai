{
  "nbformat": 4,
  "nbformat_minor": 0,
  "metadata": {
    "colab": {
      "provenance": []
    },
    "kernelspec": {
      "name": "python3",
      "display_name": "Python 3"
    },
    "language_info": {
      "name": "python"
    }
  },
  "cells": [
    {
      "cell_type": "code",
      "execution_count": 8,
      "metadata": {
        "colab": {
          "base_uri": "https://localhost:8080/"
        },
        "id": "kCyCIebv9REL",
        "outputId": "545559f7-caf8-4abc-8403-2bf067b6e4db"
      },
      "outputs": [
        {
          "output_type": "stream",
          "name": "stdout",
          "text": [
            "佐藤\n",
            "41\n"
          ]
        }
      ],
      "source": [
        "class Human:\n",
        "  def __init__(self,name,age):\n",
        "    self.name = name\n",
        "    self.age = age\n",
        "\n",
        "  def set_name(self,name):\n",
        "    self.name = name\n",
        "\n",
        "  def set_age(self,age):\n",
        "    self.age = age\n",
        "\n",
        "  def show_name(self):\n",
        "    print(self.name)\n",
        "\n",
        "  def show_age(self):\n",
        "    print(self.age)\n",
        "\n",
        "human = Human(\"佐藤\",41)\n",
        "\n",
        "human.show_name()\n",
        "human.show_age()\n"
      ]
    },
    {
      "cell_type": "code",
      "source": [
        "class Human:\n",
        "  def __init__(self,name,age):\n",
        "    self.name = name\n",
        "    self.age = age\n",
        "\n",
        "  def printinfo(self):\n",
        "      print(self.name)\n",
        "      print(self.age)\n",
        "\n",
        "human = Human(\"佐藤\",41)\n",
        "\n",
        "human.printinfo()"
      ],
      "metadata": {
        "colab": {
          "base_uri": "https://localhost:8080/"
        },
        "id": "72OqZ1EuGWeY",
        "outputId": "d708ef51-14f3-448c-b580-9187047ed3d5"
      },
      "execution_count": 20,
      "outputs": [
        {
          "output_type": "stream",
          "name": "stdout",
          "text": [
            "佐藤\n",
            "41\n"
          ]
        }
      ]
    }
  ]
}